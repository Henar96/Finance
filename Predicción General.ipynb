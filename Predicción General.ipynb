{
 "cells": [
  {
   "cell_type": "code",
   "execution_count": 23,
   "id": "93fa9cee",
   "metadata": {
    "collapsed": false,
    "jupyter": {
     "outputs_hidden": false
    },
    "tags": []
   },
   "outputs": [
    {
     "name": "stdout",
     "output_type": "stream",
     "text": [
      "Defaulting to user installation because normal site-packages is not writeable\n",
      "Collecting yfinance\n",
      "  Using cached yfinance-0.2.66-py2.py3-none-any.whl.metadata (6.0 kB)\n",
      "Requirement already satisfied: pandas>=1.3.0 in /private/var/containers/Bundle/Application/3D81A598-B8BD-4504-B9A5-376F33AD2AE3/Carnets-sci.app/Library/lib/python3.11/site-packages (from yfinance) (2.0.3)\n",
      "Requirement already satisfied: numpy>=1.16.5 in /private/var/containers/Bundle/Application/3D81A598-B8BD-4504-B9A5-376F33AD2AE3/Carnets-sci.app/Library/lib/python3.11/site-packages (from yfinance) (1.25.2+2.g530bd4c06)\n",
      "Requirement already satisfied: requests>=2.31 in /private/var/containers/Bundle/Application/3D81A598-B8BD-4504-B9A5-376F33AD2AE3/Carnets-sci.app/Library/lib/python3.11/site-packages (from yfinance) (2.31.0)\n",
      "Collecting multitasking>=0.0.7 (from yfinance)\n",
      "  Using cached multitasking-0.0.12.tar.gz (19 kB)\n",
      "  Preparing metadata (setup.py): started\n",
      "  Preparing metadata (setup.py): finished with status 'done'\n",
      "Requirement already satisfied: platformdirs>=2.0.0 in /private/var/containers/Bundle/Application/3D81A598-B8BD-4504-B9A5-376F33AD2AE3/Carnets-sci.app/Library/lib/python3.11/site-packages (from yfinance) (4.1.0)\n",
      "Requirement already satisfied: pytz>=2022.5 in /private/var/containers/Bundle/Application/3D81A598-B8BD-4504-B9A5-376F33AD2AE3/Carnets-sci.app/Library/lib/python3.11/site-packages (from yfinance) (2023.3.post1)\n",
      "Collecting frozendict>=2.3.4 (from yfinance)\n",
      "  Using cached frozendict-2.4.6-py311-none-any.whl.metadata (23 kB)\n",
      "Collecting peewee>=3.16.2 (from yfinance)\n",
      "  Using cached peewee-3.18.2.tar.gz (949 kB)\n",
      "  Preparing metadata (pyproject.toml): started\n",
      "  Preparing metadata (pyproject.toml): finished with status 'done'\n",
      "Requirement already satisfied: beautifulsoup4>=4.11.1 in /private/var/containers/Bundle/Application/3D81A598-B8BD-4504-B9A5-376F33AD2AE3/Carnets-sci.app/Library/lib/python3.11/site-packages (from yfinance) (4.12.3)\n",
      "Collecting curl_cffi>=0.7 (from yfinance)\n",
      "  Using cached curl_cffi-0.13.0.tar.gz (151 kB)\n",
      "  Preparing metadata (pyproject.toml): started\n",
      "  Preparing metadata (pyproject.toml): finished with status 'error'\n",
      "\r"
     ]
    },
    {
     "name": "stderr",
     "output_type": "stream",
     "text": [
      "  error: subprocess-exited-with-error\n",
      "  \n",
      "  × Preparing metadata (pyproject.toml) did not run successfully.\n",
      "  │ exit code: 1\n",
      "  ╰─> [44 lines of output]\n",
      "      Traceback (most recent call last):\n",
      "        File \"/var/mobile/Containers/Data/Application/EC77ADF6-EFDD-452A-A99F-812D26B10801/Library/lib/python3.11/site-packages/pip/_vendor/pyproject_hooks/_in_process/_in_process.py\", line 389, in <module>\n",
      "          main()\n",
      "        File \"/var/mobile/Containers/Data/Application/EC77ADF6-EFDD-452A-A99F-812D26B10801/Library/lib/python3.11/site-packages/pip/_vendor/pyproject_hooks/_in_process/_in_process.py\", line 373, in main\n",
      "          json_out[\"return_val\"] = hook(**hook_input[\"kwargs\"])\n",
      "                                   ^^^^^^^^^^^^^^^^^^^^^^^^^^^^\n",
      "        File \"/var/mobile/Containers/Data/Application/EC77ADF6-EFDD-452A-A99F-812D26B10801/Library/lib/python3.11/site-packages/pip/_vendor/pyproject_hooks/_in_process/_in_process.py\", line 175, in prepare_metadata_for_build_wheel\n",
      "          return hook(metadata_directory, config_settings)\n",
      "                 ^^^^^^^^^^^^^^^^^^^^^^^^^^^^^^^^^^^^^^^^^\n",
      "        File \"/private/var/containers/Bundle/Application/3D81A598-B8BD-4504-B9A5-376F33AD2AE3/Carnets-sci.app/Library/lib/python3.11/site-packages/setuptools/build_meta.py\", line 366, in prepare_metadata_for_build_wheel\n",
      "          self.run_setup()\n",
      "        File \"/private/var/containers/Bundle/Application/3D81A598-B8BD-4504-B9A5-376F33AD2AE3/Carnets-sci.app/Library/lib/python3.11/site-packages/setuptools/build_meta.py\", line 311, in run_setup\n",
      "          exec(code, locals())\n",
      "        File \"<string>\", line 16, in <module>\n",
      "        File \"/private/var/containers/Bundle/Application/3D81A598-B8BD-4504-B9A5-376F33AD2AE3/Carnets-sci.app/Library/lib/python3.11/site-packages/setuptools/__init__.py\", line 103, in setup\n",
      "          return distutils.core.setup(**attrs)\n",
      "                 ^^^^^^^^^^^^^^^^^^^^^^^^^^^^^\n",
      "        File \"/private/var/containers/Bundle/Application/3D81A598-B8BD-4504-B9A5-376F33AD2AE3/Carnets-sci.app/Library/lib/python3.11/site-packages/setuptools/_distutils/core.py\", line 147, in setup\n",
      "          _setup_distribution = dist = klass(attrs)\n",
      "                                       ^^^^^^^^^^^^\n",
      "        File \"/private/var/containers/Bundle/Application/3D81A598-B8BD-4504-B9A5-376F33AD2AE3/Carnets-sci.app/Library/lib/python3.11/site-packages/setuptools/dist.py\", line 303, in __init__\n",
      "          _Distribution.__init__(self, dist_attrs)\n",
      "        File \"/private/var/containers/Bundle/Application/3D81A598-B8BD-4504-B9A5-376F33AD2AE3/Carnets-sci.app/Library/lib/python3.11/site-packages/setuptools/_distutils/dist.py\", line 283, in __init__\n",
      "          self.finalize_options()\n",
      "        File \"/private/var/containers/Bundle/Application/3D81A598-B8BD-4504-B9A5-376F33AD2AE3/Carnets-sci.app/Library/lib/python3.11/site-packages/setuptools/dist.py\", line 654, in finalize_options\n",
      "          ep(self)\n",
      "        File \"/private/var/containers/Bundle/Application/3D81A598-B8BD-4504-B9A5-376F33AD2AE3/Carnets-sci.app/Library/lib/python3.11/site-packages/setuptools/dist.py\", line 674, in _finalize_setup_keywords\n",
      "          ep.load()(self, ep.name, value)\n",
      "        File \"/private/var/containers/Bundle/Application/3D81A598-B8BD-4504-B9A5-376F33AD2AE3/Carnets-sci.app/Library/lib/python3.11/site-packages/cffi/setuptools_ext.py\", line 219, in cffi_modules\n",
      "          add_cffi_module(dist, cffi_module)\n",
      "        File \"/private/var/containers/Bundle/Application/3D81A598-B8BD-4504-B9A5-376F33AD2AE3/Carnets-sci.app/Library/lib/python3.11/site-packages/cffi/setuptools_ext.py\", line 49, in add_cffi_module\n",
      "          execfile(build_file_name, mod_vars)\n",
      "        File \"/private/var/containers/Bundle/Application/3D81A598-B8BD-4504-B9A5-376F33AD2AE3/Carnets-sci.app/Library/lib/python3.11/site-packages/cffi/setuptools_ext.py\", line 25, in execfile\n",
      "          exec(code, glob, glob)\n",
      "        File \"scripts/build.py\", line 51, in <module>\n",
      "          arch = detect_arch()\n",
      "                 ^^^^^^^^^^^^^\n",
      "        File \"scripts/build.py\", line 24, in detect_arch\n",
      "          libc, _ = platform.libc_ver()\n",
      "                    ^^^^^^^^^^^^^^^^^^^\n",
      "        File \"/private/var/containers/Bundle/Application/3D81A598-B8BD-4504-B9A5-376F33AD2AE3/Carnets-sci.app/Library/lib/python3.11/platform.py\", line 198, in libc_ver\n",
      "          with open(executable, 'rb') as f:\n",
      "               ^^^^^^^^^^^^^^^^^^^^^^\n",
      "      FileNotFoundError: [Errno 2] No such file or directory: '/private/var/containers/Bundle/Application/3D81A598-B8BD-4504-B9A5-376F33AD2AE3/Carnets-sci.app/Library/bin/pythonC'\n",
      "      [end of output]\n",
      "  \n",
      "  note: This error originates from a subprocess, and is likely not a problem with pip.\n",
      "error: metadata-generation-failed\n",
      "\n",
      "× Encountered error while generating package metadata.\n",
      "╰─> See above for output.\n",
      "\n",
      "note: This is an issue with the package mentioned above, not pip.\n",
      "hint: See above for details.\n",
      "\r"
     ]
    },
    {
     "name": "stdout",
     "output_type": "stream",
     "text": [
      "Note: you may need to restart the kernel to use updated packages.\n"
     ]
    }
   ],
   "source": [
    "pip install yfinance"
   ]
  },
  {
   "cell_type": "code",
   "execution_count": 17,
   "id": "7a563298-240e-4b34-bdbe-2792992948f6",
   "metadata": {},
   "outputs": [
    {
     "name": "stdout",
     "output_type": "stream",
     "text": [
      "Defaulting to user installation because normal site-packages is not writeable\n",
      "Collecting yfinance\n",
      "  Using cached yfinance-0.2.66-py2.py3-none-any.whl.metadata (6.0 kB)\n",
      "Requirement already satisfied: pandas>=1.3.0 in /private/var/containers/Bundle/Application/3D81A598-B8BD-4504-B9A5-376F33AD2AE3/Carnets-sci.app/Library/lib/python3.11/site-packages (from yfinance) (2.0.3)\n",
      "Requirement already satisfied: numpy>=1.16.5 in /private/var/containers/Bundle/Application/3D81A598-B8BD-4504-B9A5-376F33AD2AE3/Carnets-sci.app/Library/lib/python3.11/site-packages (from yfinance) (1.25.2+2.g530bd4c06)\n",
      "Requirement already satisfied: requests>=2.31 in /private/var/containers/Bundle/Application/3D81A598-B8BD-4504-B9A5-376F33AD2AE3/Carnets-sci.app/Library/lib/python3.11/site-packages (from yfinance) (2.31.0)\n",
      "Collecting multitasking>=0.0.7 (from yfinance)\n",
      "  Using cached multitasking-0.0.12.tar.gz (19 kB)\n",
      "  Preparing metadata (setup.py): started\n",
      "  Preparing metadata (setup.py): finished with status 'done'\n",
      "Requirement already satisfied: platformdirs>=2.0.0 in /private/var/containers/Bundle/Application/3D81A598-B8BD-4504-B9A5-376F33AD2AE3/Carnets-sci.app/Library/lib/python3.11/site-packages (from yfinance) (4.1.0)\n",
      "Requirement already satisfied: pytz>=2022.5 in /private/var/containers/Bundle/Application/3D81A598-B8BD-4504-B9A5-376F33AD2AE3/Carnets-sci.app/Library/lib/python3.11/site-packages (from yfinance) (2023.3.post1)\n",
      "Collecting frozendict>=2.3.4 (from yfinance)\n",
      "  Using cached frozendict-2.4.6-py311-none-any.whl.metadata (23 kB)\n",
      "Collecting peewee>=3.16.2 (from yfinance)\n",
      "  Using cached peewee-3.18.2.tar.gz (949 kB)\n",
      "  Preparing metadata (pyproject.toml): started\n",
      "  Preparing metadata (pyproject.toml): finished with status 'done'\n",
      "Requirement already satisfied: beautifulsoup4>=4.11.1 in /private/var/containers/Bundle/Application/3D81A598-B8BD-4504-B9A5-376F33AD2AE3/Carnets-sci.app/Library/lib/python3.11/site-packages (from yfinance) (4.12.3)\n",
      "Collecting curl_cffi>=0.7 (from yfinance)\n",
      "  Using cached curl_cffi-0.13.0.tar.gz (151 kB)\n",
      "  Preparing metadata (pyproject.toml): started\n",
      "  Preparing metadata (pyproject.toml): finished with status 'error'\n",
      "\r"
     ]
    },
    {
     "name": "stderr",
     "output_type": "stream",
     "text": [
      "  error: subprocess-exited-with-error\n",
      "  \n",
      "  × Preparing metadata (pyproject.toml) did not run successfully.\n",
      "  │ exit code: 1\n",
      "  ╰─> [44 lines of output]\n",
      "      Traceback (most recent call last):\n",
      "        File \"/var/mobile/Containers/Data/Application/EC77ADF6-EFDD-452A-A99F-812D26B10801/Library/lib/python3.11/site-packages/pip/_vendor/pyproject_hooks/_in_process/_in_process.py\", line 389, in <module>\n",
      "          main()\n",
      "        File \"/var/mobile/Containers/Data/Application/EC77ADF6-EFDD-452A-A99F-812D26B10801/Library/lib/python3.11/site-packages/pip/_vendor/pyproject_hooks/_in_process/_in_process.py\", line 373, in main\n",
      "          json_out[\"return_val\"] = hook(**hook_input[\"kwargs\"])\n",
      "                                   ^^^^^^^^^^^^^^^^^^^^^^^^^^^^\n",
      "        File \"/var/mobile/Containers/Data/Application/EC77ADF6-EFDD-452A-A99F-812D26B10801/Library/lib/python3.11/site-packages/pip/_vendor/pyproject_hooks/_in_process/_in_process.py\", line 175, in prepare_metadata_for_build_wheel\n",
      "          return hook(metadata_directory, config_settings)\n",
      "                 ^^^^^^^^^^^^^^^^^^^^^^^^^^^^^^^^^^^^^^^^^\n",
      "        File \"/private/var/containers/Bundle/Application/3D81A598-B8BD-4504-B9A5-376F33AD2AE3/Carnets-sci.app/Library/lib/python3.11/site-packages/setuptools/build_meta.py\", line 366, in prepare_metadata_for_build_wheel\n",
      "          self.run_setup()\n",
      "        File \"/private/var/containers/Bundle/Application/3D81A598-B8BD-4504-B9A5-376F33AD2AE3/Carnets-sci.app/Library/lib/python3.11/site-packages/setuptools/build_meta.py\", line 311, in run_setup\n",
      "          exec(code, locals())\n",
      "        File \"<string>\", line 16, in <module>\n",
      "        File \"/private/var/containers/Bundle/Application/3D81A598-B8BD-4504-B9A5-376F33AD2AE3/Carnets-sci.app/Library/lib/python3.11/site-packages/setuptools/__init__.py\", line 103, in setup\n",
      "          return distutils.core.setup(**attrs)\n",
      "                 ^^^^^^^^^^^^^^^^^^^^^^^^^^^^^\n",
      "        File \"/private/var/containers/Bundle/Application/3D81A598-B8BD-4504-B9A5-376F33AD2AE3/Carnets-sci.app/Library/lib/python3.11/site-packages/setuptools/_distutils/core.py\", line 147, in setup\n",
      "          _setup_distribution = dist = klass(attrs)\n",
      "                                       ^^^^^^^^^^^^\n",
      "        File \"/private/var/containers/Bundle/Application/3D81A598-B8BD-4504-B9A5-376F33AD2AE3/Carnets-sci.app/Library/lib/python3.11/site-packages/setuptools/dist.py\", line 303, in __init__\n",
      "          _Distribution.__init__(self, dist_attrs)\n",
      "        File \"/private/var/containers/Bundle/Application/3D81A598-B8BD-4504-B9A5-376F33AD2AE3/Carnets-sci.app/Library/lib/python3.11/site-packages/setuptools/_distutils/dist.py\", line 283, in __init__\n",
      "          self.finalize_options()\n",
      "        File \"/private/var/containers/Bundle/Application/3D81A598-B8BD-4504-B9A5-376F33AD2AE3/Carnets-sci.app/Library/lib/python3.11/site-packages/setuptools/dist.py\", line 654, in finalize_options\n",
      "          ep(self)\n",
      "        File \"/private/var/containers/Bundle/Application/3D81A598-B8BD-4504-B9A5-376F33AD2AE3/Carnets-sci.app/Library/lib/python3.11/site-packages/setuptools/dist.py\", line 674, in _finalize_setup_keywords\n",
      "          ep.load()(self, ep.name, value)\n",
      "        File \"/private/var/containers/Bundle/Application/3D81A598-B8BD-4504-B9A5-376F33AD2AE3/Carnets-sci.app/Library/lib/python3.11/site-packages/cffi/setuptools_ext.py\", line 219, in cffi_modules\n",
      "          add_cffi_module(dist, cffi_module)\n",
      "        File \"/private/var/containers/Bundle/Application/3D81A598-B8BD-4504-B9A5-376F33AD2AE3/Carnets-sci.app/Library/lib/python3.11/site-packages/cffi/setuptools_ext.py\", line 49, in add_cffi_module\n",
      "          execfile(build_file_name, mod_vars)\n",
      "        File \"/private/var/containers/Bundle/Application/3D81A598-B8BD-4504-B9A5-376F33AD2AE3/Carnets-sci.app/Library/lib/python3.11/site-packages/cffi/setuptools_ext.py\", line 25, in execfile\n",
      "          exec(code, glob, glob)\n",
      "        File \"scripts/build.py\", line 51, in <module>\n",
      "          arch = detect_arch()\n",
      "                 ^^^^^^^^^^^^^\n",
      "        File \"scripts/build.py\", line 24, in detect_arch\n",
      "          libc, _ = platform.libc_ver()\n",
      "                    ^^^^^^^^^^^^^^^^^^^\n",
      "        File \"/private/var/containers/Bundle/Application/3D81A598-B8BD-4504-B9A5-376F33AD2AE3/Carnets-sci.app/Library/lib/python3.11/platform.py\", line 198, in libc_ver\n",
      "          with open(executable, 'rb') as f:\n",
      "               ^^^^^^^^^^^^^^^^^^^^^^\n",
      "      FileNotFoundError: [Errno 2] No such file or directory: '/private/var/containers/Bundle/Application/3D81A598-B8BD-4504-B9A5-376F33AD2AE3/Carnets-sci.app/Library/bin/pythonB'\n",
      "      [end of output]\n",
      "  \n",
      "  note: This error originates from a subprocess, and is likely not a problem with pip.\n",
      "error: metadata-generation-failed\n",
      "\n",
      "× Encountered error while generating package metadata.\n",
      "╰─> See above for output.\n",
      "\n",
      "note: This is an issue with the package mentioned above, not pip.\n",
      "hint: See above for details.\n",
      "\r"
     ]
    }
   ],
   "source": [
    "!pip install yfinance"
   ]
  },
  {
   "cell_type": "code",
   "execution_count": null,
   "id": "3ec16a33",
   "metadata": {
    "collapsed": false,
    "jupyter": {
     "outputs_hidden": false
    },
    "tags": []
   },
   "outputs": [],
   "source": [
    "pip install matplotlib"
   ]
  },
  {
   "cell_type": "code",
   "execution_count": 10,
   "id": "2eb44073",
   "metadata": {
    "collapsed": false,
    "jupyter": {
     "outputs_hidden": false
    },
    "tags": []
   },
   "outputs": [
    {
     "ename": "ModuleNotFoundError",
     "evalue": "No module named 'yahoofinancials'",
     "output_type": "error",
     "traceback": [
      "\u001b[0;31m---------------------------------------------------------------------------\u001b[0m",
      "\u001b[0;31mModuleNotFoundError\u001b[0m                       Traceback (most recent call last)",
      "Cell \u001b[0;32mIn[10], line 2\u001b[0m\n\u001b[1;32m      1\u001b[0m \u001b[38;5;66;03m#import yfinance as yf\u001b[39;00m\n\u001b[0;32m----> 2\u001b[0m \u001b[38;5;28;01mimport\u001b[39;00m \u001b[38;5;21;01myahoofinancials\u001b[39;00m \u001b[38;5;28;01mas\u001b[39;00m \u001b[38;5;21;01myf\u001b[39;00m\n\u001b[1;32m      3\u001b[0m \u001b[38;5;28;01mimport\u001b[39;00m \u001b[38;5;21;01mmatplotlib\u001b[39;00m\u001b[38;5;21;01m.\u001b[39;00m\u001b[38;5;21;01mpyplot\u001b[39;00m \u001b[38;5;28;01mas\u001b[39;00m \u001b[38;5;21;01mplt\u001b[39;00m\n\u001b[1;32m      4\u001b[0m \u001b[38;5;28;01mfrom\u001b[39;00m \u001b[38;5;21;01mprophet\u001b[39;00m \u001b[38;5;28;01mimport\u001b[39;00m Prophet\n",
      "\u001b[0;31mModuleNotFoundError\u001b[0m: No module named 'yahoofinancials'"
     ]
    }
   ],
   "source": [
    "#import yfinance as yf\n",
    "import yahoofinancials as yf\n",
    "import matplotlib.pyplot as plt\n",
    "from prophet import Prophet\n",
    "from sklearn.metrics import mean_absolute_error\n",
    "from sklearn.model_selection import TimeSeriesSplit\n",
    "import numpy as np\n",
    "\n",
    "# Define custom scoring function\n",
    "def score_func(y_true, y_pred):\n",
    "    return mean_absolute_error(y_true, y_pred)\n",
    "\n",
    "def predeccionBolsa(ticker_, startTime):\n",
    "    data = yf.download(ticker_, start=startTime)\n",
    "    #Extraemos la columna 'Close' del DataFrame 'data' y lo almacenamos en un nuevo DataFrame llamado 'data_close'\n",
    "    data_close = data[['Close']]\n",
    "    #Restablecemos el índice del DataFrame 'data_close' para garantizar un índice secuencial.\n",
    "    data_close.reset_index(inplace=True)\n",
    "    #Cambiamos el nombre de las columnas del DataFrame 'data_close' a 'ds' e 'y', que representan la fecha y el precio de cierre\n",
    "    data_close.columns = ['ds', 'y']\n",
    "    #Calculamos el promedio móvil (MA) de 200 días del precio de cierre utilizando el método 'rolling' y asignamos los valores \n",
    "    #a una nueva columna 'MA' en el DataFrame 'data_close'. Cualquier valor faltante resultante de la operación de balanceo \n",
    "    #se completa con cero.\n",
    "    data_close.loc[:, 'MA'] = data_close['y'].rolling(window=200).mean().fillna(0)\n",
    "    #Agregamos una columna 'Indicator' al marco de datos 'data_close', que indica si \"Buy\" o \"Sell\" en función de una \n",
    "    #comparación entre el precio de cierre ('y') y el promedio móvil ('MA').\n",
    "    #Si el precio de cierre es mayor que la media móvil, se marca como \"Buy\"; de lo contrario, se marca como \"Sell\".\n",
    "    data_close.loc[:, 'Indicator'] = np.where(data_close['y'] > data_close['MA'], 'Buy', 'Sell')\n",
    "\n",
    "    #Inicializamos el objeto TimeSeriesSplit\n",
    "    tscv = TimeSeriesSplit(n_splits=5)\n",
    "    #Inicializamos una lista vacía para almacenar las puntuaciones.\n",
    "    scores = []\n",
    "\n",
    "    \n",
    "    for train_index, test_index in tscv.split(data_close):\n",
    "        #Obtenemos los datos de entrenamiento y test para esta división\n",
    "        train_data = data_close.iloc[train_index]\n",
    "        test_data = data_close.iloc[test_index]\n",
    "        #Ajustamos el modelo a los datos de entrenamiento.\n",
    "        m = Prophet(yearly_seasonality=True)\n",
    "        m.fit(train_data)\n",
    "        #Hacemos predicciones sobre los datos de prueba.\n",
    "        future = m.make_future_dataframe(periods=365*5)\n",
    "        forecast = m.predict(future)\n",
    "        test_predictions = forecast.iloc[-len(test_data):][['yhat']]\n",
    "        #Calculamos la puntuación de esta división.\n",
    "        score = score_func(test_data[['y']], test_predictions)\n",
    "        scores.append(score)\n",
    "    mean_score = sum(scores) / len(scores)\n",
    "\n",
    "    #Ajustamos el modelo con todos los datos.\n",
    "    m = Prophet(yearly_seasonality=True)\n",
    "    m.fit(data_close)\n",
    "\n",
    "    #Hacemos las predicciones\n",
    "    future = m.make_future_dataframe(periods=365)\n",
    "    forecast = m.predict(future)\n",
    "    return forecast, mean_score, m\n",
    "\n",
    "def graficaPredicciones(forecast, mean_score,mm):\n",
    "    # Plot the forecast\n",
    "    plt.figure(figsize=(15, 8))\n",
    "    fig1 = mm.plot(forecast)\n",
    "    # Add labels and a title to the graph\n",
    "    plt.xlabel('Date')\n",
    "    plt.ylabel('Price')\n",
    "    plt.title('Stock Price with Buy and Sell Indicators')\n",
    "    # Add gridlines to the graph\n",
    "    plt.grid(True)\n",
    "    # Print the mean score\n",
    "    print(\"Cross Validation Score : \", mean_score)\n",
    "    # Show the plot\n",
    "    plt.show()"
   ]
  },
  {
   "cell_type": "code",
   "execution_count": null,
   "id": "aa182fdf",
   "metadata": {
    "collapsed": false,
    "jupyter": {
     "outputs_hidden": false
    },
    "tags": []
   },
   "outputs": [],
   "source": [
    "ticker = 'SPY'\n",
    "startTime='2021-01-01'\n",
    "forecast, mean_score,mm=predeccionBolsa(ticker, startTime)\n",
    "\n",
    "graficaPredicciones(forecast, mean_score,mm)"
   ]
  },
  {
   "cell_type": "code",
   "execution_count": null,
   "id": "47952eed",
   "metadata": {
    "collapsed": false,
    "jupyter": {
     "outputs_hidden": false
    },
    "tags": []
   },
   "outputs": [],
   "source": [
    "forecast[forecast['ds']=='2024-09-03']\n",
    "forecast[forecast['ds']>'2024-08-01']\n",
    "forecast.to_csv('SPY.csv', index=False)"
   ]
  },
  {
   "cell_type": "code",
   "execution_count": null,
   "id": "3fcb4eb4",
   "metadata": {
    "collapsed": false,
    "jupyter": {
     "outputs_hidden": false
    },
    "tags": []
   },
   "outputs": [],
   "source": [
    "forecast[forecast['ds']=='2024-07-15']"
   ]
  },
  {
   "cell_type": "code",
   "execution_count": null,
   "id": "b295a147",
   "metadata": {
    "collapsed": false,
    "jupyter": {
     "outputs_hidden": false
    },
    "tags": []
   },
   "outputs": [],
   "source": [
    "ticker = 'WCBR'\n",
    "startTime='2021-01-01'\n",
    "forecast, mean_score,mm=predeccionBolsa(ticker, startTime)\n",
    "\n",
    "graficaPredicciones(forecast, mean_score,mm)"
   ]
  },
  {
   "cell_type": "code",
   "execution_count": null,
   "id": "54defbbf",
   "metadata": {
    "collapsed": false,
    "jupyter": {
     "outputs_hidden": false
    },
    "tags": []
   },
   "outputs": [],
   "source": [
    "ticker = 'SWDA.MI'\n",
    "startTime='2021-01-01'\n",
    "forecast, mean_score,mm=predeccionBolsa(ticker, startTime)\n",
    "\n",
    "graficaPredicciones(forecast, mean_score,mm)"
   ]
  },
  {
   "cell_type": "code",
   "execution_count": null,
   "id": "c680310f",
   "metadata": {
    "collapsed": false,
    "jupyter": {
     "outputs_hidden": false
    },
    "tags": []
   },
   "outputs": [],
   "source": [
    "ticker = 'XAIX.DE'\n",
    "startTime='2021-01-01'\n",
    "forecast, mean_score,mm=predeccionBolsa(ticker, startTime)\n",
    "\n",
    "graficaPredicciones(forecast, mean_score,mm)"
   ]
  },
  {
   "cell_type": "code",
   "execution_count": null,
   "id": "48c0509b",
   "metadata": {
    "collapsed": false,
    "jupyter": {
     "outputs_hidden": false
    },
    "tags": []
   },
   "outputs": [],
   "source": [
    "ticker = 'VGT'\n",
    "startTime='2021-01-01'\n",
    "forecast, mean_score,mm=predeccionBolsa(ticker, startTime)\n",
    "\n",
    "graficaPredicciones(forecast, mean_score,mm)"
   ]
  },
  {
   "cell_type": "code",
   "execution_count": null,
   "id": "2d6b2b09",
   "metadata": {
    "collapsed": false,
    "jupyter": {
     "outputs_hidden": false
    },
    "tags": []
   },
   "outputs": [],
   "source": [
    "ticker = 'BITO'\n",
    "startTime='2021-01-01'\n",
    "forecast, mean_score,mm=predeccionBolsa(ticker, startTime)\n",
    "\n",
    "graficaPredicciones(forecast, mean_score,mm)"
   ]
  },
  {
   "cell_type": "code",
   "execution_count": null,
   "id": "1a66fdd5",
   "metadata": {
    "collapsed": false,
    "jupyter": {
     "outputs_hidden": false
    },
    "tags": []
   },
   "outputs": [],
   "source": [
    "ticker = 'SCHG'\n",
    "startTime='2021-01-01'\n",
    "forecast, mean_score,mm=predeccionBolsa(ticker, startTime)\n",
    "\n",
    "graficaPredicciones(forecast, mean_score,mm)"
   ]
  },
  {
   "cell_type": "code",
   "execution_count": null,
   "id": "160968d8",
   "metadata": {
    "collapsed": false,
    "jupyter": {
     "outputs_hidden": false
    },
    "tags": []
   },
   "outputs": [],
   "source": [
    "forecast.to_csv('SCHG.csv', index=False)"
   ]
  },
  {
   "cell_type": "code",
   "execution_count": null,
   "id": "4dbfc3c1",
   "metadata": {
    "collapsed": false,
    "jupyter": {
     "outputs_hidden": false
    },
    "tags": []
   },
   "outputs": [],
   "source": [
    "ticker = 'IVV'\n",
    "startTime='2021-01-01'\n",
    "forecast, mean_score,mm=predeccionBolsa(ticker, startTime)\n",
    "\n",
    "graficaPredicciones(forecast, mean_score,mm)"
   ]
  },
  {
   "cell_type": "code",
   "execution_count": null,
   "id": "4c6bf025",
   "metadata": {
    "collapsed": false,
    "jupyter": {
     "outputs_hidden": false
    },
    "tags": []
   },
   "outputs": [],
   "source": [
    "forecast.to_csv('IVV.csv', index=False)"
   ]
  },
  {
   "cell_type": "code",
   "execution_count": null,
   "id": "889bad34",
   "metadata": {
    "collapsed": false,
    "jupyter": {
     "outputs_hidden": false
    },
    "tags": []
   },
   "outputs": [],
   "source": [
    "ticker = 'VWRL.AS'\n",
    "startTime='2021-01-01'\n",
    "forecast, mean_score,mm=predeccionBolsa(ticker, startTime)\n",
    "\n",
    "graficaPredicciones(forecast, mean_score,mm)"
   ]
  },
  {
   "cell_type": "code",
   "execution_count": null,
   "id": "43255932",
   "metadata": {
    "collapsed": false,
    "jupyter": {
     "outputs_hidden": false
    },
    "tags": []
   },
   "outputs": [],
   "source": [
    "ticker = 'BITO'\n",
    "startTime='2021-01-01'\n",
    "forecast, mean_score,mm=predeccionBolsa(ticker, startTime)\n",
    "\n",
    "graficaPredicciones(forecast, mean_score,mm)"
   ]
  },
  {
   "cell_type": "code",
   "execution_count": null,
   "id": "6ae595d0",
   "metadata": {
    "collapsed": false,
    "jupyter": {
     "outputs_hidden": false
    },
    "tags": []
   },
   "outputs": [],
   "source": [
    "ticker = 'WCBR'\n",
    "startTime='2021-01-01'\n",
    "forecast, mean_score,mm=predeccionBolsa(ticker, startTime)\n",
    "\n",
    "graficaPredicciones(forecast, mean_score,mm)"
   ]
  },
  {
   "cell_type": "code",
   "execution_count": null,
   "id": "b7376aec",
   "metadata": {
    "collapsed": false,
    "jupyter": {
     "outputs_hidden": false
    },
    "tags": []
   },
   "outputs": [],
   "source": []
  }
 ],
 "metadata": {
  "kernelspec": {
   "display_name": "Python 3 (ipykernel)",
   "language": "python",
   "name": "python3"
  },
  "language_info": {
   "codemirror_mode": {
    "name": "ipython",
    "version": 3
   },
   "file_extension": ".py",
   "mimetype": "text/x-python",
   "name": "python",
   "nbconvert_exporter": "python",
   "pygments_lexer": "ipython3",
   "version": "3.11.0"
  }
 },
 "nbformat": 4,
 "nbformat_minor": 5
}
